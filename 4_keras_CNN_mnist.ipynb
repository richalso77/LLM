{
  "nbformat": 4,
  "nbformat_minor": 0,
  "metadata": {
    "colab": {
      "provenance": [],
      "authorship_tag": "ABX9TyNCfhn9aEkYPw6o9MkfMeaW",
      "include_colab_link": true
    },
    "kernelspec": {
      "name": "python3",
      "display_name": "Python 3"
    },
    "language_info": {
      "name": "python"
    }
  },
  "cells": [
    {
      "cell_type": "markdown",
      "metadata": {
        "id": "view-in-github",
        "colab_type": "text"
      },
      "source": [
        "<a href=\"https://colab.research.google.com/github/richalso77/LLM/blob/main/4_keras_CNN_mnist.ipynb\" target=\"_parent\"><img src=\"https://colab.research.google.com/assets/colab-badge.svg\" alt=\"Open In Colab\"/></a>"
      ]
    },
    {
      "cell_type": "code",
      "execution_count": 2,
      "metadata": {
        "colab": {
          "base_uri": "https://localhost:8080/"
        },
        "id": "dKTnHs6Hghsy",
        "outputId": "8ba37e6a-0512-445a-e1cc-105061fcde34"
      },
      "outputs": [
        {
          "output_type": "stream",
          "name": "stdout",
          "text": [
            "=========\n",
            "Model: \"sequential_1\"\n",
            "_________________________________________________________________\n",
            " Layer (type)                Output Shape              Param #   \n",
            "=================================================================\n",
            " conv2d_1 (Conv2D)           (None, 24, 24, 16)        416       \n",
            "                                                                 \n",
            " max_pooling2d_1 (MaxPoolin  (None, 12, 12, 16)        0         \n",
            " g2D)                                                            \n",
            "                                                                 \n",
            " flatten_1 (Flatten)         (None, 2304)              0         \n",
            "                                                                 \n",
            " dense_1 (Dense)             (None, 10)                23050     \n",
            "                                                                 \n",
            "=================================================================\n",
            "Total params: 23466 (91.66 KB)\n",
            "Trainable params: 23466 (91.66 KB)\n",
            "Non-trainable params: 0 (0.00 Byte)\n",
            "_________________________________________________________________\n"
          ]
        }
      ],
      "source": [
        "#n09172102_midExam\n",
        "from tensorflow import keras\n",
        "from keras.models import Sequential\n",
        "from keras.layers import Dense, Conv2D, MaxPooling2D, Flatten\n",
        "model=Sequential()\n",
        "model.add(Conv2D(filters=16, kernel_size=(5, 5), input_shape=(28, 28, 1), activation='relu')) #filters 過濾器數量，也可稱為深度 kernel_size 感知區域大小 input_shape 指定輸入數據形狀\n",
        "model.add(MaxPooling2D(pool_size=(2, 2))) #一種降採樣技術，透過減小特徵圖的空間尺寸，有助於減少計算複雜度、提高計算效率，並在一定程度上提取影像中的主要特徵\n",
        "#model.add(Conv2D(filters=36, kernel_size=(5, 5), activation='relu'))\n",
        "#model.add(MaxPooling2D(pool_size=(2, 2)))\n",
        "print(\"=========\")\n",
        "model.add(Flatten())\n",
        "model.add(Dense(10, activation='softmax'))\n",
        "model.summary()\n",
        "model.compile(optimizer='rmsprop', loss='categorical_crossentropy', metrics=['accuracy'])\n",
        ""
      ]
    },
    {
      "cell_type": "code",
      "source": [
        "mnist=keras.datasets.mnist\n",
        "(train_data, train_label), (test_data, test_label) = mnist.load_data()\n",
        "test_label_original=test_label #for crosstab\n",
        "train_label = keras.utils.to_categorical(train_label)\n",
        "test_label = keras.utils.to_categorical(test_label)\n",
        "#加載內置數據庫"
      ],
      "metadata": {
        "colab": {
          "base_uri": "https://localhost:8080/"
        },
        "id": "Ykf2i8lIgsA0",
        "outputId": "d14e681e-bda2-4614-ac8d-59d1200568f2"
      },
      "execution_count": 3,
      "outputs": [
        {
          "output_type": "stream",
          "name": "stdout",
          "text": [
            "Downloading data from https://storage.googleapis.com/tensorflow/tf-keras-datasets/mnist.npz\n",
            "11490434/11490434 [==============================] - 0s 0us/step\n"
          ]
        }
      ]
    },
    {
      "cell_type": "code",
      "source": [
        "train_history=model.fit(train_data,train_label,epochs=10,batch_size=512) #執行上方的東西"
      ],
      "metadata": {
        "colab": {
          "base_uri": "https://localhost:8080/"
        },
        "id": "67OM7J-VjOek",
        "outputId": "4c344a25-1381-4ea1-96f6-f8bda1be7a98"
      },
      "execution_count": 4,
      "outputs": [
        {
          "output_type": "stream",
          "name": "stdout",
          "text": [
            "Epoch 1/10\n",
            "118/118 [==============================] - 19s 149ms/step - loss: 5.0810 - accuracy: 0.8036\n",
            "Epoch 2/10\n",
            "118/118 [==============================] - 18s 149ms/step - loss: 0.4038 - accuracy: 0.9462\n",
            "Epoch 3/10\n",
            "118/118 [==============================] - 19s 162ms/step - loss: 0.1575 - accuracy: 0.9691\n",
            "Epoch 4/10\n",
            "118/118 [==============================] - 18s 149ms/step - loss: 0.0869 - accuracy: 0.9790\n",
            "Epoch 5/10\n",
            "118/118 [==============================] - 23s 193ms/step - loss: 0.0588 - accuracy: 0.9848\n",
            "Epoch 6/10\n",
            "118/118 [==============================] - 18s 150ms/step - loss: 0.0416 - accuracy: 0.9886\n",
            "Epoch 7/10\n",
            "118/118 [==============================] - 20s 173ms/step - loss: 0.0340 - accuracy: 0.9902\n",
            "Epoch 8/10\n",
            "118/118 [==============================] - 18s 149ms/step - loss: 0.0276 - accuracy: 0.9920\n",
            "Epoch 9/10\n",
            "118/118 [==============================] - 19s 159ms/step - loss: 0.0210 - accuracy: 0.9935\n",
            "Epoch 10/10\n",
            "118/118 [==============================] - 19s 161ms/step - loss: 0.0193 - accuracy: 0.9940\n"
          ]
        }
      ]
    },
    {
      "cell_type": "code",
      "source": [],
      "metadata": {
        "id": "yNsh8bgSjPxv"
      },
      "execution_count": null,
      "outputs": []
    }
  ]
}