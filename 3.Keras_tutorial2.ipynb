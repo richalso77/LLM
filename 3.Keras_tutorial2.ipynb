{
  "nbformat": 4,
  "nbformat_minor": 0,
  "metadata": {
    "colab": {
      "provenance": [],
      "authorship_tag": "ABX9TyPuacDTnlRNphrDcVaSyaRR",
      "include_colab_link": true
    },
    "kernelspec": {
      "name": "python3",
      "display_name": "Python 3"
    },
    "language_info": {
      "name": "python"
    }
  },
  "cells": [
    {
      "cell_type": "markdown",
      "metadata": {
        "id": "view-in-github",
        "colab_type": "text"
      },
      "source": [
        "<a href=\"https://colab.research.google.com/github/richalso77/LLM/blob/main/3.Keras_tutorial2.ipynb\" target=\"_parent\"><img src=\"https://colab.research.google.com/assets/colab-badge.svg\" alt=\"Open In Colab\"/></a>"
      ]
    },
    {
      "cell_type": "code",
      "execution_count": 1,
      "metadata": {
        "colab": {
          "base_uri": "https://localhost:8080/"
        },
        "id": "ru8nGZ65ex_W",
        "outputId": "0638d33b-eccb-4335-c00d-7ce32fd6f056"
      },
      "outputs": [
        {
          "output_type": "stream",
          "name": "stdout",
          "text": [
            "Epoch 1/10\n",
            "32/32 [==============================] - 1s 5ms/step - loss: 391.7477 - accuracy: 0.0820\n",
            "Epoch 2/10\n",
            "32/32 [==============================] - 0s 4ms/step - loss: 1300.8915 - accuracy: 0.0920\n",
            "Epoch 3/10\n",
            "32/32 [==============================] - 0s 4ms/step - loss: 2395.2583 - accuracy: 0.0930\n",
            "Epoch 4/10\n",
            "32/32 [==============================] - 0s 4ms/step - loss: 3603.4065 - accuracy: 0.0980\n",
            "Epoch 5/10\n",
            "32/32 [==============================] - 0s 7ms/step - loss: 4800.4414 - accuracy: 0.1020\n",
            "Epoch 6/10\n",
            "32/32 [==============================] - 0s 6ms/step - loss: 6262.0005 - accuracy: 0.0890\n",
            "Epoch 7/10\n",
            "32/32 [==============================] - 0s 7ms/step - loss: 7435.6602 - accuracy: 0.0970\n",
            "Epoch 8/10\n",
            "32/32 [==============================] - 0s 6ms/step - loss: 8598.0088 - accuracy: 0.1070\n",
            "Epoch 9/10\n",
            "32/32 [==============================] - 0s 7ms/step - loss: 10129.5938 - accuracy: 0.0910\n",
            "Epoch 10/10\n",
            "32/32 [==============================] - 0s 7ms/step - loss: 11235.2764 - accuracy: 0.0850\n",
            "32/32 [==============================] - 0s 3ms/step - loss: 10174.8369 - accuracy: 0.1150\n",
            "0.11500000208616257\n"
          ]
        }
      ],
      "source": [
        "#n09172102_midExam\n",
        "from tensorflow import keras\n",
        "from keras.models import Sequential\n",
        "from keras.layers import Dense, Dropout\n",
        "\n",
        "model = Sequential()\n",
        "model.add(Dense(512, activation='relu', input_dim=784)) #設定512個神經元 設定激活層並採用relu(線性整流函式) 輸入尺寸為784\n",
        "model.add(Dropout(0.2)) #對抗過擬合\n",
        "model.add(Dense(10, activation='softmax'))  #Softmax = 對每個輸出結果賦予概率值\n",
        "model.compile(optimizer='adam', loss='categorical_crossentropy', metrics=['accuracy'])\n",
        "\n",
        "import numpy as np\n",
        "data = np.random.random((1000, 784))\n",
        "labels = np.random.randint(10, size=(1000, 10))\n",
        "\n",
        "model.fit(data, labels, epochs=10, batch_size=32)\n",
        "\n",
        "score=model.evaluate(data, labels)\n",
        "print(score[1])"
      ]
    }
  ]
}