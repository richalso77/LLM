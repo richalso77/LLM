{
  "nbformat": 4,
  "nbformat_minor": 0,
  "metadata": {
    "colab": {
      "provenance": [],
      "authorship_tag": "ABX9TyNiBfKeOFgt0f3Y31U0xOBv",
      "include_colab_link": true
    },
    "kernelspec": {
      "name": "python3",
      "display_name": "Python 3"
    },
    "language_info": {
      "name": "python"
    }
  },
  "cells": [
    {
      "cell_type": "markdown",
      "metadata": {
        "id": "view-in-github",
        "colab_type": "text"
      },
      "source": [
        "<a href=\"https://colab.research.google.com/github/richalso77/LLM/blob/main/2.Keras_Tutorial.ipynb\" target=\"_parent\"><img src=\"https://colab.research.google.com/assets/colab-badge.svg\" alt=\"Open In Colab\"/></a>"
      ]
    },
    {
      "cell_type": "code",
      "execution_count": 1,
      "metadata": {
        "colab": {
          "base_uri": "https://localhost:8080/"
        },
        "id": "bgiNl-SCbIFJ",
        "outputId": "2116776c-1ce5-4ce2-fbbe-b21b03ebf82c"
      },
      "outputs": [
        {
          "output_type": "stream",
          "name": "stdout",
          "text": [
            "(1000, 10)\n",
            "[0.72301003 0.39257836 0.57219238 0.72364007 0.65746644 0.31153757\n",
            " 0.8907355  0.63123302 0.2403231  0.19654702]\n",
            "(1000, 1)\n",
            "[0]\n",
            "===========\n",
            "Epoch 1/10\n",
            "32/32 [==============================] - 1s 4ms/step - loss: 0.6957 - accuracy: 0.5000\n",
            "Epoch 2/10\n",
            "32/32 [==============================] - 0s 3ms/step - loss: 0.6924 - accuracy: 0.5060\n",
            "Epoch 3/10\n",
            "32/32 [==============================] - 0s 3ms/step - loss: 0.6912 - accuracy: 0.5290\n",
            "Epoch 4/10\n",
            "32/32 [==============================] - 0s 2ms/step - loss: 0.6901 - accuracy: 0.5200\n",
            "Epoch 5/10\n",
            "32/32 [==============================] - 0s 2ms/step - loss: 0.6891 - accuracy: 0.5270\n",
            "Epoch 6/10\n",
            "32/32 [==============================] - 0s 2ms/step - loss: 0.6887 - accuracy: 0.5350\n",
            "Epoch 7/10\n",
            "32/32 [==============================] - 0s 3ms/step - loss: 0.6876 - accuracy: 0.5340\n",
            "Epoch 8/10\n",
            "32/32 [==============================] - 0s 3ms/step - loss: 0.6872 - accuracy: 0.5450\n",
            "Epoch 9/10\n",
            "32/32 [==============================] - 0s 2ms/step - loss: 0.6867 - accuracy: 0.5540\n",
            "Epoch 10/10\n",
            "32/32 [==============================] - 0s 2ms/step - loss: 0.6861 - accuracy: 0.5400\n",
            "32/32 [==============================] - 0s 1ms/step - loss: 0.6848 - accuracy: 0.5480\n",
            "0.5479999780654907\n"
          ]
        }
      ],
      "source": [
        "#n09172102_midExam\n",
        "from tensorflow import keras\n",
        "from keras.models import Sequential\n",
        "from keras.layers import Dense\n",
        "\n",
        "import numpy as np\n",
        "data = np.random.random((1000, 10)) #隨機產生1000筆資料，每筆資料包含十個float數字\n",
        "labels = np.random.randint(2, size=(1000, 1)) #隨機產生1000筆資料，每筆資料上限為2(意思就是0 或 1)\n",
        "print(np.shape(data))\n",
        "print(data[0])\n",
        "print(np.shape(labels))\n",
        "print(labels[0])\n",
        "print(\"===========\")\n",
        "\n",
        "model = Sequential()  #宣告模型\n",
        "model.add(Dense(32, activation='relu', input_dim=10)) #設定32個神經元 設定激活層並採用relu(線性整流函式) 輸入尺寸為10\n",
        "model.add(Dense(1, activation='sigmoid')) #sigmoid = S型函數\n",
        "model.compile(optimizer='rmsprop', loss='binary_crossentropy', metrics=['accuracy'])  #rmsprop = \"descent\" and \"RProp\"\n",
        "                                            #loss = 損失函數\n",
        "                                            #metrics 準確率\n",
        "model.fit(data, labels, epochs=10, batch_size=32)\n",
        "\n",
        "score=model.evaluate(data, labels)\n",
        "print(score[1])\n",
        ""
      ]
    }
  ]
}